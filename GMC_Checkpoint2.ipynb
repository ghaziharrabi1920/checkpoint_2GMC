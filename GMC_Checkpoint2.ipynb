{
 "cells": [
  {
   "cell_type": "markdown",
   "metadata": {},
   "source": [
    "# Checkpoint 2 - Python"
   ]
  },
  {
   "cell_type": "markdown",
   "metadata": {},
   "source": [
    "## Exercice 1"
   ]
  },
  {
   "cell_type": "code",
   "execution_count": null,
   "metadata": {},
   "outputs": [],
   "source": [
    "Lst = []\n",
    "for x in range(2000, 3200):\n",
    "    if (x%7==0) and (x%5!=0):\n",
    "        Lst.append(x)\n",
    "print(Lst)\n"
   ]
  },
  {
   "cell_type": "markdown",
   "metadata": {},
   "source": [
    "## Exercice 2"
   ]
  },
  {
   "cell_type": "code",
   "execution_count": null,
   "metadata": {},
   "outputs": [],
   "source": [
    "Fact = 1\n",
    "y = int(input(\"Choose a number : \"))\n",
    "\n",
    "if y < 0 :\n",
    "    print(\"impossible to calculate the factorial of a negative number! \")\n",
    "elif y == 1 or y == 0:\n",
    "    print(\"Factoriel of \" + str(y) + \" Equal \" + str(Fact))\n",
    "else:\n",
    "    for i in range(1,y+1):\n",
    "        Fact = Fact*i\n",
    "    print(\"Factoriel of \" + str(y) + \" Equal \" + str(Fact) )    \n"
   ]
  },
  {
   "cell_type": "markdown",
   "metadata": {},
   "source": [
    "## Exercice 3 "
   ]
  },
  {
   "cell_type": "code",
   "execution_count": null,
   "metadata": {},
   "outputs": [],
   "source": [
    "value = int(input())\n",
    "dict = {}\n",
    "\n",
    "for i in range (1,value+1):\n",
    "    dict[i]= i*i\n",
    "print(dict)    \n"
   ]
  },
  {
   "cell_type": "markdown",
   "metadata": {},
   "source": [
    "## Exercice 4"
   ]
  },
  {
   "cell_type": "code",
   "execution_count": null,
   "metadata": {},
   "outputs": [],
   "source": [
    "Name = input(\"Write a text : \")\n",
    "index = int(input(\"Give an index : \"))\n",
    "print(\"\")\n",
    "\n",
    "if index > len(Name):\n",
    "    print(\"Wrong index value !!\")\n",
    "else : \n",
    "    Name = Name[0 : index : ] + Name[index + 1 : :]\n",
    "    print(Name)\n"
   ]
  },
  {
   "cell_type": "markdown",
   "metadata": {},
   "source": [
    "## Exercice 5"
   ]
  },
  {
   "cell_type": "code",
   "execution_count": null,
   "metadata": {},
   "outputs": [],
   "source": [
    "import numpy as np\n",
    "\n",
    "# first method\n",
    "\n",
    "print(\"First method \\n--------------\")\n",
    "array1 = np.array([[0,1],[2,3],[4,5]])\n",
    "print(\"Original array \\n\")\n",
    "print(array1)\n",
    "print(\"\\nNumpy Array converted to List \\n\")\n",
    "print(array1.tolist())\n",
    "\n",
    "# second method using arange & reshape\n",
    "\n",
    "print(\"\\n--------------\\nSecond method\\n--------------\")\n",
    "array2 = np.arange(6).reshape(3, 2)\n",
    "print(\"\\nOriginal array \\n\")\n",
    "print(array2)\n",
    "print(\"\\nNumpy Array converted to List \\n\")\n",
    "print(array2.tolist())\n"
   ]
  },
  {
   "cell_type": "markdown",
   "metadata": {},
   "source": [
    "## Exercice 6"
   ]
  },
  {
   "cell_type": "code",
   "execution_count": null,
   "metadata": {},
   "outputs": [],
   "source": [
    "import numpy as np\n",
    "\n",
    "# First array\n",
    "arr1 = np.array([0,1,2])\n",
    "print(\"First array :\")\n",
    "print(arr1)\n",
    "\n",
    "# Second array\n",
    "arr2 = np.array([2,1,0])\n",
    "print(\"\\nSecond array :\")\n",
    "print(arr2)\n",
    "\n",
    "# Covariance matrix\n",
    "print(\"\\nCovariance Matrix = \\n\",np.cov(arr1,arr2))\n"
   ]
  },
  {
   "cell_type": "markdown",
   "metadata": {},
   "source": [
    "## Exercice 7"
   ]
  },
  {
   "cell_type": "code",
   "execution_count": null,
   "metadata": {},
   "outputs": [],
   "source": [
    "import math\n",
    "\n",
    "C = 50\n",
    "H = 30\n",
    "results = []\n",
    "numbers = [ n for n in input(\"Enter some numbers separated with ',' : \").split(',')]\n",
    "for D in numbers:\n",
    "    results.append(str(int(round(math.sqrt(2 * C * float(D)/H)))))\n",
    "    \n",
    "print(\"\\nResults :\")\n",
    "print(','.join(results))   "
   ]
  }
 ],
 "metadata": {
  "kernelspec": {
   "display_name": "Python 3",
   "language": "python",
   "name": "python3"
  },
  "language_info": {
   "codemirror_mode": {
    "name": "ipython",
    "version": 3
   },
   "file_extension": ".py",
   "mimetype": "text/x-python",
   "name": "python",
   "nbconvert_exporter": "python",
   "pygments_lexer": "ipython3",
   "version": "3.8.5"
  }
 },
 "nbformat": 4,
 "nbformat_minor": 4
}
